import dash
import dash_core_components as dcc
import dash_html_components as html
import plotly.graph_objs as go
import yfinance as yf
import pandas as pd
import statsmodels.api as sm

# Lista de ações que você deseja coletar dados
tickers = ['ITUB4.SA', 'BBAS3.SA', 'PETR4.SA']

# Obter dados históricos para as ações selecionadas
data = yf.download(tickers, start='2022-01-01', end='2022-03-20')

# Selecionar coluna de preços de fechamento (Close)
close_data = data['Close']

# Calcular os retornos diários
daily_returns = close_data.pct_change()

# Remover a primeira linha com valor nulo
daily_returns = daily_returns.dropna()

# Criar o modelo ARIMA
model = sm.tsa.ARIMA(daily_returns, order=(1, 1, 0))

# Ajustar o modelo aos dados
model_fit = model.fit()

# Fazer as previsões
forecast = model_fit.forecast(steps=10)

# Preparar os dados para exibição na dashboard
df = pd.DataFrame({'Data': forecast.index, 'Previsão': forecast})

# Criar a aplicação Dash
app = dash.Dash(__name__)

# Definir o layout da dashboard
app.layout = html.Div(children=[
    html.H1(children='Previsão de ações da IBOVESPA'),

    html.Div(children='''
        Exibição de previsões e outros dados relevantes.
    '''),

    dcc.Graph(
        id='previsao-grafico',
        figure={
            'data': [
                go.Scatter(
                    x=df['Data'],
                    y=df['Previsão'],
                    mode='lines+markers',
                    name='Previsão'
                ),
                go.Scatter(
                    x=daily_returns.index[-50:],
                    y=daily_returns[-50:],
                    mode='lines',
                    name='Observado'
                )
            ],
            'layout': go.Layout(
                title='Previsão de cotações de ações',
                xaxis={'title': 'Data'},
                yaxis={'title': 'Retorno diário'},
                hovermode='closest'
            )
        }
    )
])

# Executar a aplicação Dash
if __name__ == '__main__':
    app.run_server(debug=True)
